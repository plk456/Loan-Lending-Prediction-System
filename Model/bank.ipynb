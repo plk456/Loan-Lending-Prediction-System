{
 "cells": [
  {
   "cell_type": "code",
   "execution_count": 1,
   "id": "e889a445-3df9-46bb-ac9a-e74db183e347",
   "metadata": {},
   "outputs": [],
   "source": [
    "import pandas as pd\n",
    "import numpy as np\n",
    "from sklearn.model_selection import train_test_split\n",
    "from sklearn.pipeline import Pipeline\n",
    "from sklearn.impute import SimpleImputer\n",
    "from imblearn.over_sampling import SMOTE\n",
    "from sklearn.model_selection import StratifiedKFold\n",
    "from sklearn.model_selection import GridSearchCV\n",
    "from sklearn.preprocessing import StandardScaler,LabelEncoder\n",
    "from sklearn.linear_model import LogisticRegression\n",
    "from sklearn.tree import DecisionTreeClassifier\n",
    "from sklearn.ensemble import RandomForestClassifier\n",
    "from sklearn.svm import SVC\n",
    "from sklearn.neighbors import KNeighborsClassifier\n",
    "import xgboost as xgb\n",
    "from sklearn.metrics import roc_curve, auc, RocCurveDisplay, accuracy_score, f1_score,recall_score,precision_score\n",
    "import matplotlib.pyplot as plt\n",
    "%matplotlib inline\n",
    "import warnings\n",
    "warnings.filterwarnings('ignore')"
   ]
  },
  {
   "cell_type": "code",
   "execution_count": 3,
   "id": "461fa0b3-b05b-4add-86d0-c2e5de3c07b0",
   "metadata": {
    "scrolled": true
   },
   "outputs": [
    {
     "name": "stdout",
     "output_type": "stream",
     "text": [
      "   loan_amnt        term  int_rate  installment grade sub_grade  \\\n",
      "0    10000.0   36 months     11.44       329.48     B        B4   \n",
      "1     8000.0   36 months     11.99       265.68     B        B5   \n",
      "2    15600.0   36 months     10.49       506.97     B        B3   \n",
      "3     7200.0   36 months      6.49       220.65     A        A2   \n",
      "4    24375.0   60 months     17.27       609.33     C        C5   \n",
      "5    20000.0   36 months     13.33       677.07     C        C3   \n",
      "6    18000.0   36 months      5.32       542.07     A        A1   \n",
      "7    13000.0   36 months     11.14       426.47     B        B2   \n",
      "8    18900.0   60 months     10.99       410.84     B        B3   \n",
      "9    26300.0   36 months     16.29       928.40     C        C5   \n",
      "\n",
      "                       emp_title emp_length home_ownership  annual_inc  ...  \\\n",
      "0                      Marketing  10+ years           RENT    117000.0  ...   \n",
      "1                Credit analyst     4 years       MORTGAGE     65000.0  ...   \n",
      "2                   Statistician   < 1 year           RENT     43057.0  ...   \n",
      "3                Client Advocate    6 years           RENT     54000.0  ...   \n",
      "4        Destiny Management Inc.    9 years       MORTGAGE     55000.0  ...   \n",
      "5                  HR Specialist  10+ years       MORTGAGE     86788.0  ...   \n",
      "6  Software Development Engineer    2 years       MORTGAGE    125000.0  ...   \n",
      "7                   Office Depot  10+ years           RENT     46000.0  ...   \n",
      "8          Application Architect  10+ years           RENT    103000.0  ...   \n",
      "9             Regado Biosciences    3 years       MORTGAGE    115000.0  ...   \n",
      "\n",
      "  open_acc pub_rec revol_bal revol_util total_acc  initial_list_status  \\\n",
      "0     16.0     0.0   36369.0       41.8      25.0                    w   \n",
      "1     17.0     0.0   20131.0       53.3      27.0                    f   \n",
      "2     13.0     0.0   11987.0       92.2      26.0                    f   \n",
      "3      6.0     0.0    5472.0       21.5      13.0                    f   \n",
      "4     13.0     0.0   24584.0       69.8      43.0                    f   \n",
      "5      8.0     0.0   25757.0      100.6      23.0                    f   \n",
      "6      8.0     0.0    4178.0        4.9      25.0                    f   \n",
      "7     11.0     0.0   13425.0       64.5      15.0                    f   \n",
      "8     13.0     0.0   18637.0       32.9      40.0                    w   \n",
      "9     13.0     0.0   22171.0       82.4      37.0                    f   \n",
      "\n",
      "  application_type  mort_acc  pub_rec_bankruptcies  \\\n",
      "0       INDIVIDUAL       0.0                   0.0   \n",
      "1       INDIVIDUAL       3.0                   0.0   \n",
      "2       INDIVIDUAL       0.0                   0.0   \n",
      "3       INDIVIDUAL       0.0                   0.0   \n",
      "4       INDIVIDUAL       1.0                   0.0   \n",
      "5       INDIVIDUAL       4.0                   0.0   \n",
      "6       INDIVIDUAL       3.0                   0.0   \n",
      "7       INDIVIDUAL       0.0                   0.0   \n",
      "8       INDIVIDUAL       3.0                   0.0   \n",
      "9       INDIVIDUAL       1.0                   0.0   \n",
      "\n",
      "                                             address  \n",
      "0       0174 Michelle Gateway\\nMendozaberg, OK 22690  \n",
      "1    1076 Carney Fort Apt. 347\\nLoganmouth, SD 05113  \n",
      "2    87025 Mark Dale Apt. 269\\nNew Sabrina, WV 05113  \n",
      "3              823 Reid Ford\\nDelacruzside, MA 00813  \n",
      "4               679 Luna Roads\\nGreggshire, VA 11650  \n",
      "5  1726 Cooper Passage Suite 129\\nNorth Deniseber...  \n",
      "6  1008 Erika Vista Suite 748\\nEast Stephanie, TX...  \n",
      "7                          USCGC Nunez\\nFPO AE 30723  \n",
      "8                           USCGC Tran\\nFPO AP 22690  \n",
      "9               3390 Luis Rue\\nMauricestad, VA 00813  \n",
      "\n",
      "[10 rows x 27 columns]\n"
     ]
    }
   ],
   "source": [
    "n=pd.read_csv('lending_club_loan_two.csv')\n",
    "print(n.head(10))"
   ]
  },
  {
   "cell_type": "code",
   "execution_count": null,
   "id": "51767d74-4fae-4f10-9761-feab4f66abe0",
   "metadata": {},
   "outputs": [],
   "source": [
    "##### Feature Engineering #####"
   ]
  },
  {
   "cell_type": "code",
   "execution_count": 5,
   "id": "bbe3b15a-4038-4fe7-9eb7-6f88606c3dcb",
   "metadata": {},
   "outputs": [
    {
     "data": {
      "text/plain": [
       "array(['Fully Paid', 'Charged Off'], dtype=object)"
      ]
     },
     "execution_count": 5,
     "metadata": {},
     "output_type": "execute_result"
    }
   ],
   "source": [
    "n['loan_status'].unique()"
   ]
  },
  {
   "cell_type": "code",
   "execution_count": 7,
   "id": "d99fd4e3-c6cd-4e41-a90b-187a05667272",
   "metadata": {},
   "outputs": [],
   "source": [
    "X=n.drop(['loan_status'],axis=1)\n",
    "y=n['loan_status']"
   ]
  },
  {
   "cell_type": "code",
   "execution_count": 9,
   "id": "91b18e6f-9292-47b9-976f-2a0f18e89ec7",
   "metadata": {},
   "outputs": [
    {
     "name": "stdout",
     "output_type": "stream",
     "text": [
      "0          Fully Paid\n",
      "1          Fully Paid\n",
      "2          Fully Paid\n",
      "3          Fully Paid\n",
      "4         Charged Off\n",
      "             ...     \n",
      "396025     Fully Paid\n",
      "396026     Fully Paid\n",
      "396027     Fully Paid\n",
      "396028     Fully Paid\n",
      "396029     Fully Paid\n",
      "Name: loan_status, Length: 396030, dtype: object\n"
     ]
    }
   ],
   "source": [
    "print(y)"
   ]
  },
  {
   "cell_type": "code",
   "execution_count": 11,
   "id": "e1845f57-ab62-47c7-b4be-3f9546f57348",
   "metadata": {},
   "outputs": [
    {
     "data": {
      "text/plain": [
       "array([' 36 months', ' 60 months'], dtype=object)"
      ]
     },
     "execution_count": 11,
     "metadata": {},
     "output_type": "execute_result"
    }
   ],
   "source": [
    "n['term'].unique()"
   ]
  },
  {
   "cell_type": "code",
   "execution_count": 13,
   "id": "b56c264c-413b-4d26-8b16-03f4ee0ff5bc",
   "metadata": {},
   "outputs": [
    {
     "data": {
      "text/plain": [
       "loan_amnt                   0\n",
       "term                        0\n",
       "int_rate                    0\n",
       "installment                 0\n",
       "grade                       0\n",
       "sub_grade                   0\n",
       "emp_title               22927\n",
       "emp_length              18301\n",
       "home_ownership              0\n",
       "annual_inc                  0\n",
       "verification_status         0\n",
       "issue_d                     0\n",
       "loan_status                 0\n",
       "purpose                     0\n",
       "title                    1756\n",
       "dti                         0\n",
       "earliest_cr_line            0\n",
       "open_acc                    0\n",
       "pub_rec                     0\n",
       "revol_bal                   0\n",
       "revol_util                276\n",
       "total_acc                   0\n",
       "initial_list_status         0\n",
       "application_type            0\n",
       "mort_acc                37795\n",
       "pub_rec_bankruptcies      535\n",
       "address                     0\n",
       "dtype: int64"
      ]
     },
     "execution_count": 13,
     "metadata": {},
     "output_type": "execute_result"
    }
   ],
   "source": [
    "n.isnull().sum()"
   ]
  },
  {
   "cell_type": "code",
   "execution_count": 14,
   "id": "8cf9e915-6d1a-44ce-a905-654ad4ed6684",
   "metadata": {},
   "outputs": [
    {
     "data": {
      "text/plain": [
       "loan_amnt               0\n",
       "term                    0\n",
       "int_rate                0\n",
       "installment             0\n",
       "grade                   0\n",
       "sub_grade               0\n",
       "emp_title               0\n",
       "emp_length              0\n",
       "home_ownership          0\n",
       "annual_inc              0\n",
       "verification_status     0\n",
       "issue_d                 0\n",
       "loan_status             0\n",
       "purpose                 0\n",
       "title                   0\n",
       "dti                     0\n",
       "earliest_cr_line        0\n",
       "open_acc                0\n",
       "pub_rec                 0\n",
       "revol_bal               0\n",
       "revol_util              0\n",
       "total_acc               0\n",
       "initial_list_status     0\n",
       "application_type        0\n",
       "mort_acc                0\n",
       "pub_rec_bankruptcies    0\n",
       "address                 0\n",
       "dtype: int64"
      ]
     },
     "execution_count": 14,
     "metadata": {},
     "output_type": "execute_result"
    }
   ],
   "source": [
    "df1=n.dropna()\n",
    "df1.isnull().sum()"
   ]
  },
  {
   "cell_type": "code",
   "execution_count": 16,
   "id": "8255e828-22a3-48cf-9fd9-3e6639d1ea0e",
   "metadata": {},
   "outputs": [
    {
     "data": {
      "text/plain": [
       "array([' 36 months', ' 60 months'], dtype=object)"
      ]
     },
     "execution_count": 16,
     "metadata": {},
     "output_type": "execute_result"
    }
   ],
   "source": [
    "df1['term'].unique()"
   ]
  },
  {
   "cell_type": "code",
   "execution_count": 18,
   "id": "9acf825a-8407-4bcd-bf18-f4850ea4c117",
   "metadata": {},
   "outputs": [],
   "source": [
    "df1['term']=df1['term'].apply(lambda x: int(x.strip().split(' ')[0]))"
   ]
  },
  {
   "cell_type": "code",
   "execution_count": 20,
   "id": "f4432ae9-0663-46ee-b1d7-f220e03ebf32",
   "metadata": {},
   "outputs": [
    {
     "data": {
      "text/plain": [
       "0         36\n",
       "1         36\n",
       "2         36\n",
       "3         36\n",
       "4         60\n",
       "          ..\n",
       "396024    36\n",
       "396025    60\n",
       "396026    36\n",
       "396027    36\n",
       "396028    60\n",
       "Name: term, Length: 335867, dtype: int64"
      ]
     },
     "execution_count": 20,
     "metadata": {},
     "output_type": "execute_result"
    }
   ],
   "source": [
    "df1['term']"
   ]
  },
  {
   "cell_type": "code",
   "execution_count": 23,
   "id": "416e6310-7b83-41df-af55-437f153b6205",
   "metadata": {},
   "outputs": [
    {
     "name": "stdout",
     "output_type": "stream",
     "text": [
      "        loan_amnt  term  int_rate  installment grade sub_grade  \\\n",
      "0         10000.0    36     11.44       329.48     B        B4   \n",
      "1          8000.0    36     11.99       265.68     B        B5   \n",
      "2         15600.0    36     10.49       506.97     B        B3   \n",
      "3          7200.0    36      6.49       220.65     A        A2   \n",
      "4         24375.0    60     17.27       609.33     C        C5   \n",
      "...           ...   ...       ...          ...   ...       ...   \n",
      "396024     6000.0    36     13.11       202.49     B        B4   \n",
      "396025    10000.0    60     10.99       217.38     B        B4   \n",
      "396026    21000.0    36     12.29       700.42     C        C1   \n",
      "396027     5000.0    36      9.99       161.32     B        B1   \n",
      "396028    21000.0    60     15.31       503.02     C        C2   \n",
      "\n",
      "                      emp_title emp_length home_ownership  annual_inc  ...  \\\n",
      "0                     Marketing  10+ years           RENT    117000.0  ...   \n",
      "1               Credit analyst     4 years       MORTGAGE     65000.0  ...   \n",
      "2                  Statistician   < 1 year           RENT     43057.0  ...   \n",
      "3               Client Advocate    6 years           RENT     54000.0  ...   \n",
      "4       Destiny Management Inc.    9 years       MORTGAGE     55000.0  ...   \n",
      "...                         ...        ...            ...         ...  ...   \n",
      "396024  Michael's Arts & Crafts    5 years           RENT     64000.0  ...   \n",
      "396025         licensed bankere    2 years           RENT     40000.0  ...   \n",
      "396026                    Agent    5 years       MORTGAGE    110000.0  ...   \n",
      "396027             City Carrier  10+ years           RENT     56500.0  ...   \n",
      "396028     Gracon Services, Inc  10+ years       MORTGAGE     64000.0  ...   \n",
      "\n",
      "       open_acc pub_rec revol_bal revol_util total_acc  initial_list_status  \\\n",
      "0          16.0     0.0   36369.0       41.8      25.0                    w   \n",
      "1          17.0     0.0   20131.0       53.3      27.0                    f   \n",
      "2          13.0     0.0   11987.0       92.2      26.0                    f   \n",
      "3           6.0     0.0    5472.0       21.5      13.0                    f   \n",
      "4          13.0     0.0   24584.0       69.8      43.0                    f   \n",
      "...         ...     ...       ...        ...       ...                  ...   \n",
      "396024      7.0     0.0   11456.0       97.1       9.0                    w   \n",
      "396025      6.0     0.0    1990.0       34.3      23.0                    w   \n",
      "396026      6.0     0.0   43263.0       95.7       8.0                    f   \n",
      "396027     15.0     0.0   32704.0       66.9      23.0                    f   \n",
      "396028      9.0     0.0   15704.0       53.8      20.0                    f   \n",
      "\n",
      "       application_type  mort_acc  pub_rec_bankruptcies  \\\n",
      "0            INDIVIDUAL       0.0                   0.0   \n",
      "1            INDIVIDUAL       3.0                   0.0   \n",
      "2            INDIVIDUAL       0.0                   0.0   \n",
      "3            INDIVIDUAL       0.0                   0.0   \n",
      "4            INDIVIDUAL       1.0                   0.0   \n",
      "...                 ...       ...                   ...   \n",
      "396024       INDIVIDUAL       0.0                   0.0   \n",
      "396025       INDIVIDUAL       0.0                   0.0   \n",
      "396026       INDIVIDUAL       1.0                   0.0   \n",
      "396027       INDIVIDUAL       0.0                   0.0   \n",
      "396028       INDIVIDUAL       5.0                   0.0   \n",
      "\n",
      "                                                  address  \n",
      "0            0174 Michelle Gateway\\nMendozaberg, OK 22690  \n",
      "1         1076 Carney Fort Apt. 347\\nLoganmouth, SD 05113  \n",
      "2         87025 Mark Dale Apt. 269\\nNew Sabrina, WV 05113  \n",
      "3                   823 Reid Ford\\nDelacruzside, MA 00813  \n",
      "4                    679 Luna Roads\\nGreggshire, VA 11650  \n",
      "...                                                   ...  \n",
      "396024  514 Cynthia Park Apt. 402\\nWest Williamside, S...  \n",
      "396025     12951 Williams Crossing\\nJohnnyville, DC 30723  \n",
      "396026  0114 Fowler Field Suite 028\\nRachelborough, LA...  \n",
      "396027   953 Matthew Points Suite 414\\nReedfort, NY 70466  \n",
      "396028  7843 Blake Freeway Apt. 229\\nNew Michael, FL 2...  \n",
      "\n",
      "[335867 rows x 27 columns]\n"
     ]
    }
   ],
   "source": [
    "print(df1)"
   ]
  },
  {
   "cell_type": "code",
   "execution_count": 25,
   "id": "626a6d8f-542f-4137-80be-bc62d50e3fad",
   "metadata": {},
   "outputs": [
    {
     "data": {
      "text/plain": [
       "array(['10+ years', '4 years', '< 1 year', '6 years', '9 years',\n",
       "       '2 years', '3 years', '8 years', '7 years', '5 years', '1 year'],\n",
       "      dtype=object)"
      ]
     },
     "execution_count": 25,
     "metadata": {},
     "output_type": "execute_result"
    }
   ],
   "source": [
    "df1['emp_length'].unique()"
   ]
  },
  {
   "cell_type": "code",
   "execution_count": 27,
   "id": "c03265a2-f681-40de-93ff-8a3724b2f616",
   "metadata": {},
   "outputs": [],
   "source": [
    "def fun1(x):\n",
    "    try:\n",
    "        x=x.strip()\n",
    "\n",
    "        x=x.replace('+','').replace('years','').replace('<','').replace('year','').strip()\n",
    "\n",
    "        return x\n",
    "    except ValueError:\n",
    "        print('Error')"
   ]
  },
  {
   "cell_type": "code",
   "execution_count": 29,
   "id": "29d040b7-3993-4484-9908-c2a2cc6f686e",
   "metadata": {},
   "outputs": [],
   "source": [
    "df1['emp_length']=df1['emp_length'].apply(fun1)"
   ]
  },
  {
   "cell_type": "code",
   "execution_count": 31,
   "id": "b50bcda9-bac3-4ed6-a2a1-832be71d9602",
   "metadata": {},
   "outputs": [
    {
     "data": {
      "text/plain": [
       "0     10\n",
       "1      4\n",
       "2      1\n",
       "3      6\n",
       "4      9\n",
       "5     10\n",
       "6      2\n",
       "7     10\n",
       "8     10\n",
       "9      3\n",
       "10     2\n",
       "11     8\n",
       "12     7\n",
       "13    10\n",
       "14     9\n",
       "15     8\n",
       "16    10\n",
       "17    10\n",
       "18    10\n",
       "19     7\n",
       "Name: emp_length, dtype: object"
      ]
     },
     "execution_count": 31,
     "metadata": {},
     "output_type": "execute_result"
    }
   ],
   "source": [
    "df1['emp_length'].head(20)"
   ]
  },
  {
   "cell_type": "code",
   "execution_count": 33,
   "id": "d357608d-4dca-4dd0-83fe-45b632e61d99",
   "metadata": {},
   "outputs": [
    {
     "data": {
      "text/plain": [
       "loan_amnt               0\n",
       "term                    0\n",
       "int_rate                0\n",
       "installment             0\n",
       "grade                   0\n",
       "sub_grade               0\n",
       "emp_title               0\n",
       "emp_length              0\n",
       "home_ownership          0\n",
       "annual_inc              0\n",
       "verification_status     0\n",
       "issue_d                 0\n",
       "loan_status             0\n",
       "purpose                 0\n",
       "title                   0\n",
       "dti                     0\n",
       "earliest_cr_line        0\n",
       "open_acc                0\n",
       "pub_rec                 0\n",
       "revol_bal               0\n",
       "revol_util              0\n",
       "total_acc               0\n",
       "initial_list_status     0\n",
       "application_type        0\n",
       "mort_acc                0\n",
       "pub_rec_bankruptcies    0\n",
       "address                 0\n",
       "dtype: int64"
      ]
     },
     "execution_count": 33,
     "metadata": {},
     "output_type": "execute_result"
    }
   ],
   "source": [
    "df1.isnull().sum()"
   ]
  },
  {
   "cell_type": "code",
   "execution_count": 34,
   "id": "31ef56f6-a0ec-4a9f-8753-35617f92b418",
   "metadata": {},
   "outputs": [
    {
     "data": {
      "text/plain": [
       "Index(['loan_amnt', 'term', 'int_rate', 'installment', 'grade', 'sub_grade',\n",
       "       'emp_title', 'emp_length', 'home_ownership', 'annual_inc',\n",
       "       'verification_status', 'issue_d', 'loan_status', 'purpose', 'title',\n",
       "       'dti', 'earliest_cr_line', 'open_acc', 'pub_rec', 'revol_bal',\n",
       "       'revol_util', 'total_acc', 'initial_list_status', 'application_type',\n",
       "       'mort_acc', 'pub_rec_bankruptcies', 'address'],\n",
       "      dtype='object')"
      ]
     },
     "execution_count": 34,
     "metadata": {},
     "output_type": "execute_result"
    }
   ],
   "source": [
    "df1.columns"
   ]
  },
  {
   "cell_type": "code",
   "execution_count": 37,
   "id": "7b7e6b1a-3b3b-432e-9998-668963332447",
   "metadata": {},
   "outputs": [],
   "source": [
    "df1['issue_d']=pd.to_datetime(df1['issue_d'],format='%b-%Y')"
   ]
  },
  {
   "cell_type": "code",
   "execution_count": 39,
   "id": "ed4a3e30",
   "metadata": {},
   "outputs": [
    {
     "name": "stdout",
     "output_type": "stream",
     "text": [
      "0        2015-01-01\n",
      "1        2015-01-01\n",
      "2        2015-01-01\n",
      "3        2014-11-01\n",
      "4        2013-04-01\n",
      "            ...    \n",
      "396024   2013-03-01\n",
      "396025   2015-10-01\n",
      "396026   2015-02-01\n",
      "396027   2013-10-01\n",
      "396028   2012-08-01\n",
      "Name: issue_d, Length: 335867, dtype: datetime64[ns]\n"
     ]
    }
   ],
   "source": [
    "print(df1['issue_d'])"
   ]
  },
  {
   "cell_type": "code",
   "execution_count": 41,
   "id": "e6b73601-2643-453b-af0d-3ee1df2ae85d",
   "metadata": {},
   "outputs": [
    {
     "data": {
      "text/plain": [
       "0        2015-01-01\n",
       "1        2015-01-01\n",
       "2        2015-01-01\n",
       "3        2014-11-01\n",
       "4        2013-04-01\n",
       "            ...    \n",
       "396024   2013-03-01\n",
       "396025   2015-10-01\n",
       "396026   2015-02-01\n",
       "396027   2013-10-01\n",
       "396028   2012-08-01\n",
       "Name: issue_d, Length: 335867, dtype: datetime64[ns]"
      ]
     },
     "execution_count": 41,
     "metadata": {},
     "output_type": "execute_result"
    }
   ],
   "source": [
    "df1['issue_d']"
   ]
  },
  {
   "cell_type": "code",
   "execution_count": 43,
   "id": "811b8cd7-af4d-4b8c-a63e-443f52b0fe65",
   "metadata": {},
   "outputs": [],
   "source": [
    "df1['earliest_cr_line']=pd.to_datetime(df1['earliest_cr_line'],format='%b-%Y')"
   ]
  },
  {
   "cell_type": "code",
   "execution_count": 45,
   "id": "06aca6d0-ea18-4d19-aba6-74dde619f094",
   "metadata": {},
   "outputs": [
    {
     "data": {
      "text/plain": [
       "0        1990-06-01\n",
       "1        2004-07-01\n",
       "2        2007-08-01\n",
       "3        2006-09-01\n",
       "4        1999-03-01\n",
       "            ...    \n",
       "396024   1991-11-01\n",
       "396025   2004-11-01\n",
       "396026   2006-02-01\n",
       "396027   1997-03-01\n",
       "396028   1990-11-01\n",
       "Name: earliest_cr_line, Length: 335867, dtype: datetime64[ns]"
      ]
     },
     "execution_count": 45,
     "metadata": {},
     "output_type": "execute_result"
    }
   ],
   "source": [
    "df1['earliest_cr_line']"
   ]
  },
  {
   "cell_type": "code",
   "execution_count": 47,
   "id": "e350cb06-b700-4f48-b558-3db8bf1132b7",
   "metadata": {},
   "outputs": [
    {
     "data": {
      "text/plain": [
       "Index(['loan_amnt', 'term', 'int_rate', 'installment', 'grade', 'sub_grade',\n",
       "       'emp_title', 'emp_length', 'home_ownership', 'annual_inc',\n",
       "       'verification_status', 'issue_d', 'loan_status', 'purpose', 'title',\n",
       "       'dti', 'earliest_cr_line', 'open_acc', 'pub_rec', 'revol_bal',\n",
       "       'revol_util', 'total_acc', 'initial_list_status', 'application_type',\n",
       "       'mort_acc', 'pub_rec_bankruptcies', 'address'],\n",
       "      dtype='object')"
      ]
     },
     "execution_count": 47,
     "metadata": {},
     "output_type": "execute_result"
    }
   ],
   "source": [
    "df1.columns"
   ]
  },
  {
   "cell_type": "code",
   "execution_count": 49,
   "id": "2b0ee2e6-0ef8-4682-ae5d-e0d594858968",
   "metadata": {},
   "outputs": [],
   "source": [
    "df2=df1.drop(['title','sub_grade','verification_status','initial_list_status','revol_util','open_acc','pub_rec','mort_acc','address','issue_d','earliest_cr_line'],axis=1)"
   ]
  },
  {
   "cell_type": "code",
   "execution_count": 51,
   "id": "f67b4249-2cb9-4cbf-b8a9-ed2b4313c1c7",
   "metadata": {
    "scrolled": true
   },
   "outputs": [
    {
     "name": "stdout",
     "output_type": "stream",
     "text": [
      "        loan_amnt  term  int_rate  installment grade                emp_title  \\\n",
      "0         10000.0    36     11.44       329.48     B                Marketing   \n",
      "1          8000.0    36     11.99       265.68     B          Credit analyst    \n",
      "2         15600.0    36     10.49       506.97     B             Statistician   \n",
      "3          7200.0    36      6.49       220.65     A          Client Advocate   \n",
      "4         24375.0    60     17.27       609.33     C  Destiny Management Inc.   \n",
      "...           ...   ...       ...          ...   ...                      ...   \n",
      "396024     6000.0    36     13.11       202.49     B  Michael's Arts & Crafts   \n",
      "396025    10000.0    60     10.99       217.38     B         licensed bankere   \n",
      "396026    21000.0    36     12.29       700.42     C                    Agent   \n",
      "396027     5000.0    36      9.99       161.32     B             City Carrier   \n",
      "396028    21000.0    60     15.31       503.02     C     Gracon Services, Inc   \n",
      "\n",
      "       emp_length home_ownership  annual_inc  loan_status             purpose  \\\n",
      "0              10           RENT    117000.0   Fully Paid            vacation   \n",
      "1               4       MORTGAGE     65000.0   Fully Paid  debt_consolidation   \n",
      "2               1           RENT     43057.0   Fully Paid         credit_card   \n",
      "3               6           RENT     54000.0   Fully Paid         credit_card   \n",
      "4               9       MORTGAGE     55000.0  Charged Off         credit_card   \n",
      "...           ...            ...         ...          ...                 ...   \n",
      "396024          5           RENT     64000.0   Fully Paid  debt_consolidation   \n",
      "396025          2           RENT     40000.0   Fully Paid  debt_consolidation   \n",
      "396026          5       MORTGAGE    110000.0   Fully Paid  debt_consolidation   \n",
      "396027         10           RENT     56500.0   Fully Paid  debt_consolidation   \n",
      "396028         10       MORTGAGE     64000.0   Fully Paid  debt_consolidation   \n",
      "\n",
      "          dti  revol_bal  total_acc application_type  pub_rec_bankruptcies  \n",
      "0       26.24    36369.0       25.0       INDIVIDUAL                   0.0  \n",
      "1       22.05    20131.0       27.0       INDIVIDUAL                   0.0  \n",
      "2       12.79    11987.0       26.0       INDIVIDUAL                   0.0  \n",
      "3        2.60     5472.0       13.0       INDIVIDUAL                   0.0  \n",
      "4       33.95    24584.0       43.0       INDIVIDUAL                   0.0  \n",
      "...       ...        ...        ...              ...                   ...  \n",
      "396024  10.81    11456.0        9.0       INDIVIDUAL                   0.0  \n",
      "396025  15.63     1990.0       23.0       INDIVIDUAL                   0.0  \n",
      "396026  21.45    43263.0        8.0       INDIVIDUAL                   0.0  \n",
      "396027  17.56    32704.0       23.0       INDIVIDUAL                   0.0  \n",
      "396028  15.88    15704.0       20.0       INDIVIDUAL                   0.0  \n",
      "\n",
      "[335867 rows x 16 columns]\n"
     ]
    }
   ],
   "source": [
    "print(df2)"
   ]
  },
  {
   "cell_type": "code",
   "execution_count": 53,
   "id": "ae525c5a-c753-40a1-8e89-65ee33e8538c",
   "metadata": {},
   "outputs": [],
   "source": [
    "######   PLK   ######    CONVERTING CATEGORICAL DATA INTO NUMERICAL DATA    ######   PLK ######"
   ]
  },
  {
   "cell_type": "code",
   "execution_count": 55,
   "id": "c5d9236e-6a98-4348-a345-97ef2038aeea",
   "metadata": {},
   "outputs": [],
   "source": [
    "le=LabelEncoder()\n",
    "df2['emp_title']=le.fit_transform(df2['emp_title'])\n",
    "df2['home_ownership']=le.fit_transform(df2['home_ownership'])\n",
    "df2['grade']=le.fit_transform(df2['grade'])\n",
    "df2['loan_status']=le.fit_transform(df2['loan_status'])\n",
    "df2['purpose']=le.fit_transform(df2['purpose'])\n",
    "df2['application_type']=le.fit_transform(df2['application_type'])"
   ]
  },
  {
   "cell_type": "code",
   "execution_count": 56,
   "id": "4eb25495-570e-434e-a0a4-8710012e750b",
   "metadata": {},
   "outputs": [
    {
     "name": "stdout",
     "output_type": "stream",
     "text": [
      "        loan_amnt  term  int_rate  installment  grade  emp_title emp_length  \\\n",
      "0         10000.0    36     11.44       329.48      1      70215         10   \n",
      "1          8000.0    36     11.99       265.68      1      28866          4   \n",
      "2         15600.0    36     10.49       506.97      1     110940          1   \n",
      "3          7200.0    36      6.49       220.65      0      23896          6   \n",
      "4         24375.0    60     17.27       609.33      2      33212          9   \n",
      "...           ...   ...       ...          ...    ...        ...        ...   \n",
      "396024     6000.0    36     13.11       202.49      1      73210          5   \n",
      "396025    10000.0    60     10.99       217.38      1     139501          2   \n",
      "396026    21000.0    36     12.29       700.42      2       5084          5   \n",
      "396027     5000.0    36      9.99       161.32      1      22540         10   \n",
      "396028    21000.0    60     15.31       503.02      2      49459         10   \n",
      "\n",
      "        home_ownership  annual_inc  loan_status  purpose    dti  revol_bal  \\\n",
      "0                    5    117000.0            1       12  26.24    36369.0   \n",
      "1                    1     65000.0            1        2  22.05    20131.0   \n",
      "2                    5     43057.0            1        1  12.79    11987.0   \n",
      "3                    5     54000.0            1        1   2.60     5472.0   \n",
      "4                    1     55000.0            0        1  33.95    24584.0   \n",
      "...                ...         ...          ...      ...    ...        ...   \n",
      "396024               5     64000.0            1        2  10.81    11456.0   \n",
      "396025               5     40000.0            1        2  15.63     1990.0   \n",
      "396026               1    110000.0            1        2  21.45    43263.0   \n",
      "396027               5     56500.0            1        2  17.56    32704.0   \n",
      "396028               1     64000.0            1        2  15.88    15704.0   \n",
      "\n",
      "        total_acc  application_type  pub_rec_bankruptcies  \n",
      "0            25.0                 1                   0.0  \n",
      "1            27.0                 1                   0.0  \n",
      "2            26.0                 1                   0.0  \n",
      "3            13.0                 1                   0.0  \n",
      "4            43.0                 1                   0.0  \n",
      "...           ...               ...                   ...  \n",
      "396024        9.0                 1                   0.0  \n",
      "396025       23.0                 1                   0.0  \n",
      "396026        8.0                 1                   0.0  \n",
      "396027       23.0                 1                   0.0  \n",
      "396028       20.0                 1                   0.0  \n",
      "\n",
      "[335867 rows x 16 columns]\n"
     ]
    }
   ],
   "source": [
    "print(df2)"
   ]
  },
  {
   "cell_type": "code",
   "execution_count": 59,
   "id": "1c7abe64-0bf7-487f-becb-7c5564a0e356",
   "metadata": {},
   "outputs": [],
   "source": [
    "X=df2.drop(['loan_status'],axis=1)\n",
    "y=df2['loan_status']"
   ]
  },
  {
   "cell_type": "code",
   "execution_count": 61,
   "id": "9cc887ae-3a5f-4dff-8897-497faa9de7cd",
   "metadata": {},
   "outputs": [
    {
     "name": "stdout",
     "output_type": "stream",
     "text": [
      "0         1\n",
      "1         1\n",
      "2         1\n",
      "3         1\n",
      "4         0\n",
      "         ..\n",
      "396024    1\n",
      "396025    1\n",
      "396026    1\n",
      "396027    1\n",
      "396028    1\n",
      "Name: loan_status, Length: 335867, dtype: int32\n"
     ]
    }
   ],
   "source": [
    "print(y)"
   ]
  },
  {
   "cell_type": "code",
   "execution_count": 77,
   "id": "8d6858b1-2e9c-435b-bd01-117f4ba1f89a",
   "metadata": {
    "scrolled": true
   },
   "outputs": [
    {
     "name": "stdout",
     "output_type": "stream",
     "text": [
      "This is no.of 0 values:66312\n",
      "This is no.of 1 values:269555\n"
     ]
    }
   ],
   "source": [
    "x1=0\n",
    "x2=0\n",
    "for i in y:\n",
    "    if i==0:\n",
    "        x1+=1\n",
    "    else:\n",
    "        x2+=1\n",
    "print(f'This is no.of 0 values:{x1}')\n",
    "print(f'This is no.of 1 values:{x2}')"
   ]
  },
  {
   "cell_type": "code",
   "execution_count": 72,
   "id": "a207bcc9-218e-41b8-8e7f-0762274930c9",
   "metadata": {},
   "outputs": [],
   "source": [
    "######   PLK   ######    SPLITING DATA INTO TRAIN & TEST    ######   PLK ######   "
   ]
  },
  {
   "cell_type": "code",
   "execution_count": 73,
   "id": "27f48395-57cc-4d31-987b-27bc5d285e1e",
   "metadata": {},
   "outputs": [],
   "source": [
    "X_train,X_test,y_train,y_test=train_test_split(X,y,test_size=0.2,random_state=42,stratify=y)"
   ]
  },
  {
   "cell_type": "code",
   "execution_count": 74,
   "id": "00209e33-b2ed-4cf2-9390-4523e4a58e23",
   "metadata": {},
   "outputs": [],
   "source": [
    "#print(X_train)"
   ]
  },
  {
   "cell_type": "code",
   "execution_count": 75,
   "id": "44457ea8-cfdf-4998-b29e-32c5c8451f6a",
   "metadata": {},
   "outputs": [],
   "source": [
    "result={}\n",
    "\n",
    "models={\n",
    "    'linear':LogisticRegression(max_iter=500),\n",
    "    'random':RandomForestClassifier(),\n",
    "    'tree':DecisionTreeClassifier(),\n",
    "    'svm':SVC(kernel='rbf',C=1,gamma='scale'),\n",
    "    'neighbors':KNeighborsClassifier(),   \n",
    "    'xgboost': xgb.XGBClassifier()\n",
    "\n",
    "}\n",
    "\n",
    "\n",
    "\n",
    "param_grids = {\n",
    "        'linear': {\n",
    "            'C': [0.1, 1, 10],\n",
    "            'penalty': ['l1', 'l2'],\n",
    "            'solver': ['liblinear']\n",
    "        },\n",
    "    'random': {\n",
    "        'n_estimators': [50, 100, 200],\n",
    "        'max_depth': [None, 10, 20],\n",
    "        'min_samples_split': [2, 5]\n",
    "    },\n",
    "    'tree': {\n",
    "        'max_depth': [None, 10, 20],\n",
    "        'min_samples_split': [2, 5, 10]\n",
    "    },\n",
    "    'svm': {\n",
    "        'C': [0.1, 1, 10],\n",
    "        'gamma': ['scale', 'auto']\n",
    "    },\n",
    "    'neighbors': {\n",
    "        'n_neighbors': [3, 5, 7],\n",
    "        'weights': ['uniform', 'distance']\n",
    "    },\n",
    "    'xgboost': {\n",
    "            'n_estimators': [50, 100],\n",
    "            'max_depth': [3, 6],\n",
    "            'learning_rate': [0.01, 0.1]\n",
    "        }\n",
    "}\n"
   ]
  },
  {
   "cell_type": "code",
   "execution_count": null,
   "id": "736b982c-e549-4979-a659-ac9addf311dc",
   "metadata": {
    "scrolled": true
   },
   "outputs": [
    {
     "name": "stdout",
     "output_type": "stream",
     "text": [
      "training the current model is linear is running...\n"
     ]
    }
   ],
   "source": [
    "\n",
    "smote=SMOTE(random_state=42)   \n",
    "\n",
    "CV=StratifiedKFold(n_splits=5,shuffle=True,random_state=42)\n",
    "\n",
    "for model_name,model in models.items():\n",
    "    pipeline=Pipeline([\n",
    "    ('imputer',SimpleImputer()),\n",
    "    ('scaler',StandardScaler()),\n",
    "    ('classification',model)\n",
    "    ])\n",
    "\n",
    "    param_grid = {f'classification__{key}': value for key, value in param_grids[model_name].items()}\n",
    "    print(f'training the current model is {model_name} is running...')\n",
    "\n",
    "    grid_params=GridSearchCV(\n",
    "        estimator=pipeline,\n",
    "        param_grid=param_grid,\n",
    "        cv=CV,\n",
    "        scoring='accuracy'\n",
    "    )\n",
    "    grid_params.fit(X_train, y_train)\n",
    "    result[model_name] = grid_params\n",
    "\n",
    "    for model_name, grid_params in result.items():\n",
    "        best_params = grid_params.best_params_\n",
    "        best_score = grid_params.best_score_\n",
    "        print(f\"Model: {model_name}\")\n",
    "        print(f\"Best Parameters: {best_params}\")\n",
    "        print(f\"Best Score: {best_score:.4f}\")\n",
    "        print(\"-\" * 40)\n",
    "    "
   ]
  },
  {
   "cell_type": "markdown",
   "id": "eb767b35-1002-4a26-90a4-2c057253bcf7",
   "metadata": {},
   "source": [
    "###### "
   ]
  }
 ],
 "metadata": {
  "kernelspec": {
   "display_name": "Python 3 (ipykernel)",
   "language": "python",
   "name": "python3"
  },
  "language_info": {
   "codemirror_mode": {
    "name": "ipython",
    "version": 3
   },
   "file_extension": ".py",
   "mimetype": "text/x-python",
   "name": "python",
   "nbconvert_exporter": "python",
   "pygments_lexer": "ipython3",
   "version": "3.12.7"
  }
 },
 "nbformat": 4,
 "nbformat_minor": 5
}
