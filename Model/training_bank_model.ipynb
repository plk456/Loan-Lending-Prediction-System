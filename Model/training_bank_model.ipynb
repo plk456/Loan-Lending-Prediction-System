{
  "cells": [
    {
      "cell_type": "code",
      "execution_count": 1,
      "metadata": {
        "id": "1JpHn3JpJell"
      },
      "outputs": [],
      "source": [
        "import numpy as np\n",
        "import pandas as pd\n",
        "from sklearn.model_selection import train_test_split\n",
        "from sklearn.preprocessing import StandardScaler,LabelEncoder\n",
        "from sklearn.ensemble import RandomForestClassifier\n",
        "from sklearn.model_selection import GridSearchCV, StratifiedKFold\n",
        "from sklearn.metrics import roc_auc_score,accuracy_score, classification_report, confusion_matrix\n",
        "import matplotlib.pyplot as plt\n"
      ]
    },
    {
      "cell_type": "code",
      "execution_count": 2,
      "metadata": {
        "colab": {
          "base_uri": "https://localhost:8080/"
        },
        "id": "xFPW8xUiJ8ci",
        "outputId": "7b9b4268-c606-4ef4-e7cb-97d17a902d0e",
        "collapsed": true
      },
      "outputs": [
        {
          "output_type": "stream",
          "name": "stdout",
          "text": [
            "        loan_amnt        term  int_rate  installment grade sub_grade  \\\n",
            "0         10000.0   36 months     11.44       329.48     B        B4   \n",
            "1          8000.0   36 months     11.99       265.68     B        B5   \n",
            "2         15600.0   36 months     10.49       506.97     B        B3   \n",
            "3          7200.0   36 months      6.49       220.65     A        A2   \n",
            "4         24375.0   60 months     17.27       609.33     C        C5   \n",
            "...           ...         ...       ...          ...   ...       ...   \n",
            "396025    10000.0   60 months     10.99       217.38     B        B4   \n",
            "396026    21000.0   36 months     12.29       700.42     C        C1   \n",
            "396027     5000.0   36 months      9.99       161.32     B        B1   \n",
            "396028    21000.0   60 months     15.31       503.02     C        C2   \n",
            "396029     2000.0   36 months     13.61        67.98     C        C2   \n",
            "\n",
            "                       emp_title emp_length home_ownership  annual_inc  ...  \\\n",
            "0                      Marketing  10+ years           RENT    117000.0  ...   \n",
            "1                Credit analyst     4 years       MORTGAGE     65000.0  ...   \n",
            "2                   Statistician   < 1 year           RENT     43057.0  ...   \n",
            "3                Client Advocate    6 years           RENT     54000.0  ...   \n",
            "4        Destiny Management Inc.    9 years       MORTGAGE     55000.0  ...   \n",
            "...                          ...        ...            ...         ...  ...   \n",
            "396025          licensed bankere    2 years           RENT     40000.0  ...   \n",
            "396026                     Agent    5 years       MORTGAGE    110000.0  ...   \n",
            "396027              City Carrier  10+ years           RENT     56500.0  ...   \n",
            "396028      Gracon Services, Inc  10+ years       MORTGAGE     64000.0  ...   \n",
            "396029  Internal Revenue Service  10+ years           RENT     42996.0  ...   \n",
            "\n",
            "       open_acc pub_rec revol_bal revol_util total_acc  initial_list_status  \\\n",
            "0          16.0     0.0   36369.0       41.8      25.0                    w   \n",
            "1          17.0     0.0   20131.0       53.3      27.0                    f   \n",
            "2          13.0     0.0   11987.0       92.2      26.0                    f   \n",
            "3           6.0     0.0    5472.0       21.5      13.0                    f   \n",
            "4          13.0     0.0   24584.0       69.8      43.0                    f   \n",
            "...         ...     ...       ...        ...       ...                  ...   \n",
            "396025      6.0     0.0    1990.0       34.3      23.0                    w   \n",
            "396026      6.0     0.0   43263.0       95.7       8.0                    f   \n",
            "396027     15.0     0.0   32704.0       66.9      23.0                    f   \n",
            "396028      9.0     0.0   15704.0       53.8      20.0                    f   \n",
            "396029      3.0     0.0    4292.0       91.3      19.0                    f   \n",
            "\n",
            "       application_type  mort_acc  pub_rec_bankruptcies  \\\n",
            "0            INDIVIDUAL       0.0                   0.0   \n",
            "1            INDIVIDUAL       3.0                   0.0   \n",
            "2            INDIVIDUAL       0.0                   0.0   \n",
            "3            INDIVIDUAL       0.0                   0.0   \n",
            "4            INDIVIDUAL       1.0                   0.0   \n",
            "...                 ...       ...                   ...   \n",
            "396025       INDIVIDUAL       0.0                   0.0   \n",
            "396026       INDIVIDUAL       1.0                   0.0   \n",
            "396027       INDIVIDUAL       0.0                   0.0   \n",
            "396028       INDIVIDUAL       5.0                   0.0   \n",
            "396029       INDIVIDUAL       NaN                   0.0   \n",
            "\n",
            "                                                  address  \n",
            "0            0174 Michelle Gateway\\nMendozaberg, OK 22690  \n",
            "1         1076 Carney Fort Apt. 347\\nLoganmouth, SD 05113  \n",
            "2         87025 Mark Dale Apt. 269\\nNew Sabrina, WV 05113  \n",
            "3                   823 Reid Ford\\nDelacruzside, MA 00813  \n",
            "4                    679 Luna Roads\\nGreggshire, VA 11650  \n",
            "...                                                   ...  \n",
            "396025     12951 Williams Crossing\\nJohnnyville, DC 30723  \n",
            "396026  0114 Fowler Field Suite 028\\nRachelborough, LA...  \n",
            "396027   953 Matthew Points Suite 414\\nReedfort, NY 70466  \n",
            "396028  7843 Blake Freeway Apt. 229\\nNew Michael, FL 2...  \n",
            "396029        787 Michelle Causeway\\nBriannaton, AR 48052  \n",
            "\n",
            "[396030 rows x 27 columns]\n"
          ]
        }
      ],
      "source": [
        "n=pd.read_csv(\"lending_club_loan_two.csv\")\n",
        "print(n)"
      ]
    },
    {
      "cell_type": "code",
      "execution_count": 3,
      "metadata": {
        "id": "53RABVgzKJdY",
        "colab": {
          "base_uri": "https://localhost:8080/"
        },
        "outputId": "7b1d2a5f-bbe6-49e8-c648-669a9f0a67ae"
      },
      "outputs": [
        {
          "output_type": "execute_result",
          "data": {
            "text/plain": [
              "array(['Fully Paid', 'Charged Off'], dtype=object)"
            ]
          },
          "metadata": {},
          "execution_count": 3
        }
      ],
      "source": [
        "n['loan_status'].unique()"
      ]
    },
    {
      "cell_type": "code",
      "execution_count": 4,
      "metadata": {
        "id": "HgJViv3JKYcS"
      },
      "outputs": [],
      "source": [
        "X=n.drop(['loan_status'],axis=1)\n",
        "y=n['loan_status']"
      ]
    },
    {
      "cell_type": "code",
      "execution_count": 5,
      "metadata": {
        "id": "QgBZXFZuKaTs",
        "colab": {
          "base_uri": "https://localhost:8080/",
          "height": 930
        },
        "outputId": "9042a040-0e28-44db-e198-661e3afafbbd"
      },
      "outputs": [
        {
          "output_type": "execute_result",
          "data": {
            "text/plain": [
              "loan_amnt                   0\n",
              "term                        0\n",
              "int_rate                    0\n",
              "installment                 0\n",
              "grade                       0\n",
              "sub_grade                   0\n",
              "emp_title               22927\n",
              "emp_length              18301\n",
              "home_ownership              0\n",
              "annual_inc                  0\n",
              "verification_status         0\n",
              "issue_d                     0\n",
              "loan_status                 0\n",
              "purpose                     0\n",
              "title                    1756\n",
              "dti                         0\n",
              "earliest_cr_line            0\n",
              "open_acc                    0\n",
              "pub_rec                     0\n",
              "revol_bal                   0\n",
              "revol_util                276\n",
              "total_acc                   0\n",
              "initial_list_status         0\n",
              "application_type            0\n",
              "mort_acc                37795\n",
              "pub_rec_bankruptcies      535\n",
              "address                     0\n",
              "dtype: int64"
            ],
            "text/html": [
              "<div>\n",
              "<style scoped>\n",
              "    .dataframe tbody tr th:only-of-type {\n",
              "        vertical-align: middle;\n",
              "    }\n",
              "\n",
              "    .dataframe tbody tr th {\n",
              "        vertical-align: top;\n",
              "    }\n",
              "\n",
              "    .dataframe thead th {\n",
              "        text-align: right;\n",
              "    }\n",
              "</style>\n",
              "<table border=\"1\" class=\"dataframe\">\n",
              "  <thead>\n",
              "    <tr style=\"text-align: right;\">\n",
              "      <th></th>\n",
              "      <th>0</th>\n",
              "    </tr>\n",
              "  </thead>\n",
              "  <tbody>\n",
              "    <tr>\n",
              "      <th>loan_amnt</th>\n",
              "      <td>0</td>\n",
              "    </tr>\n",
              "    <tr>\n",
              "      <th>term</th>\n",
              "      <td>0</td>\n",
              "    </tr>\n",
              "    <tr>\n",
              "      <th>int_rate</th>\n",
              "      <td>0</td>\n",
              "    </tr>\n",
              "    <tr>\n",
              "      <th>installment</th>\n",
              "      <td>0</td>\n",
              "    </tr>\n",
              "    <tr>\n",
              "      <th>grade</th>\n",
              "      <td>0</td>\n",
              "    </tr>\n",
              "    <tr>\n",
              "      <th>sub_grade</th>\n",
              "      <td>0</td>\n",
              "    </tr>\n",
              "    <tr>\n",
              "      <th>emp_title</th>\n",
              "      <td>22927</td>\n",
              "    </tr>\n",
              "    <tr>\n",
              "      <th>emp_length</th>\n",
              "      <td>18301</td>\n",
              "    </tr>\n",
              "    <tr>\n",
              "      <th>home_ownership</th>\n",
              "      <td>0</td>\n",
              "    </tr>\n",
              "    <tr>\n",
              "      <th>annual_inc</th>\n",
              "      <td>0</td>\n",
              "    </tr>\n",
              "    <tr>\n",
              "      <th>verification_status</th>\n",
              "      <td>0</td>\n",
              "    </tr>\n",
              "    <tr>\n",
              "      <th>issue_d</th>\n",
              "      <td>0</td>\n",
              "    </tr>\n",
              "    <tr>\n",
              "      <th>loan_status</th>\n",
              "      <td>0</td>\n",
              "    </tr>\n",
              "    <tr>\n",
              "      <th>purpose</th>\n",
              "      <td>0</td>\n",
              "    </tr>\n",
              "    <tr>\n",
              "      <th>title</th>\n",
              "      <td>1756</td>\n",
              "    </tr>\n",
              "    <tr>\n",
              "      <th>dti</th>\n",
              "      <td>0</td>\n",
              "    </tr>\n",
              "    <tr>\n",
              "      <th>earliest_cr_line</th>\n",
              "      <td>0</td>\n",
              "    </tr>\n",
              "    <tr>\n",
              "      <th>open_acc</th>\n",
              "      <td>0</td>\n",
              "    </tr>\n",
              "    <tr>\n",
              "      <th>pub_rec</th>\n",
              "      <td>0</td>\n",
              "    </tr>\n",
              "    <tr>\n",
              "      <th>revol_bal</th>\n",
              "      <td>0</td>\n",
              "    </tr>\n",
              "    <tr>\n",
              "      <th>revol_util</th>\n",
              "      <td>276</td>\n",
              "    </tr>\n",
              "    <tr>\n",
              "      <th>total_acc</th>\n",
              "      <td>0</td>\n",
              "    </tr>\n",
              "    <tr>\n",
              "      <th>initial_list_status</th>\n",
              "      <td>0</td>\n",
              "    </tr>\n",
              "    <tr>\n",
              "      <th>application_type</th>\n",
              "      <td>0</td>\n",
              "    </tr>\n",
              "    <tr>\n",
              "      <th>mort_acc</th>\n",
              "      <td>37795</td>\n",
              "    </tr>\n",
              "    <tr>\n",
              "      <th>pub_rec_bankruptcies</th>\n",
              "      <td>535</td>\n",
              "    </tr>\n",
              "    <tr>\n",
              "      <th>address</th>\n",
              "      <td>0</td>\n",
              "    </tr>\n",
              "  </tbody>\n",
              "</table>\n",
              "</div><br><label><b>dtype:</b> int64</label>"
            ]
          },
          "metadata": {},
          "execution_count": 5
        }
      ],
      "source": [
        "n.isnull().sum()"
      ]
    },
    {
      "cell_type": "code",
      "execution_count": 6,
      "metadata": {
        "id": "FaOj1Jk8KiCz",
        "colab": {
          "base_uri": "https://localhost:8080/",
          "height": 930
        },
        "outputId": "becefe2c-20b8-466c-8b51-588fe33c9064"
      },
      "outputs": [
        {
          "output_type": "execute_result",
          "data": {
            "text/plain": [
              "loan_amnt               0\n",
              "term                    0\n",
              "int_rate                0\n",
              "installment             0\n",
              "grade                   0\n",
              "sub_grade               0\n",
              "emp_title               0\n",
              "emp_length              0\n",
              "home_ownership          0\n",
              "annual_inc              0\n",
              "verification_status     0\n",
              "issue_d                 0\n",
              "loan_status             0\n",
              "purpose                 0\n",
              "title                   0\n",
              "dti                     0\n",
              "earliest_cr_line        0\n",
              "open_acc                0\n",
              "pub_rec                 0\n",
              "revol_bal               0\n",
              "revol_util              0\n",
              "total_acc               0\n",
              "initial_list_status     0\n",
              "application_type        0\n",
              "mort_acc                0\n",
              "pub_rec_bankruptcies    0\n",
              "address                 0\n",
              "dtype: int64"
            ],
            "text/html": [
              "<div>\n",
              "<style scoped>\n",
              "    .dataframe tbody tr th:only-of-type {\n",
              "        vertical-align: middle;\n",
              "    }\n",
              "\n",
              "    .dataframe tbody tr th {\n",
              "        vertical-align: top;\n",
              "    }\n",
              "\n",
              "    .dataframe thead th {\n",
              "        text-align: right;\n",
              "    }\n",
              "</style>\n",
              "<table border=\"1\" class=\"dataframe\">\n",
              "  <thead>\n",
              "    <tr style=\"text-align: right;\">\n",
              "      <th></th>\n",
              "      <th>0</th>\n",
              "    </tr>\n",
              "  </thead>\n",
              "  <tbody>\n",
              "    <tr>\n",
              "      <th>loan_amnt</th>\n",
              "      <td>0</td>\n",
              "    </tr>\n",
              "    <tr>\n",
              "      <th>term</th>\n",
              "      <td>0</td>\n",
              "    </tr>\n",
              "    <tr>\n",
              "      <th>int_rate</th>\n",
              "      <td>0</td>\n",
              "    </tr>\n",
              "    <tr>\n",
              "      <th>installment</th>\n",
              "      <td>0</td>\n",
              "    </tr>\n",
              "    <tr>\n",
              "      <th>grade</th>\n",
              "      <td>0</td>\n",
              "    </tr>\n",
              "    <tr>\n",
              "      <th>sub_grade</th>\n",
              "      <td>0</td>\n",
              "    </tr>\n",
              "    <tr>\n",
              "      <th>emp_title</th>\n",
              "      <td>0</td>\n",
              "    </tr>\n",
              "    <tr>\n",
              "      <th>emp_length</th>\n",
              "      <td>0</td>\n",
              "    </tr>\n",
              "    <tr>\n",
              "      <th>home_ownership</th>\n",
              "      <td>0</td>\n",
              "    </tr>\n",
              "    <tr>\n",
              "      <th>annual_inc</th>\n",
              "      <td>0</td>\n",
              "    </tr>\n",
              "    <tr>\n",
              "      <th>verification_status</th>\n",
              "      <td>0</td>\n",
              "    </tr>\n",
              "    <tr>\n",
              "      <th>issue_d</th>\n",
              "      <td>0</td>\n",
              "    </tr>\n",
              "    <tr>\n",
              "      <th>loan_status</th>\n",
              "      <td>0</td>\n",
              "    </tr>\n",
              "    <tr>\n",
              "      <th>purpose</th>\n",
              "      <td>0</td>\n",
              "    </tr>\n",
              "    <tr>\n",
              "      <th>title</th>\n",
              "      <td>0</td>\n",
              "    </tr>\n",
              "    <tr>\n",
              "      <th>dti</th>\n",
              "      <td>0</td>\n",
              "    </tr>\n",
              "    <tr>\n",
              "      <th>earliest_cr_line</th>\n",
              "      <td>0</td>\n",
              "    </tr>\n",
              "    <tr>\n",
              "      <th>open_acc</th>\n",
              "      <td>0</td>\n",
              "    </tr>\n",
              "    <tr>\n",
              "      <th>pub_rec</th>\n",
              "      <td>0</td>\n",
              "    </tr>\n",
              "    <tr>\n",
              "      <th>revol_bal</th>\n",
              "      <td>0</td>\n",
              "    </tr>\n",
              "    <tr>\n",
              "      <th>revol_util</th>\n",
              "      <td>0</td>\n",
              "    </tr>\n",
              "    <tr>\n",
              "      <th>total_acc</th>\n",
              "      <td>0</td>\n",
              "    </tr>\n",
              "    <tr>\n",
              "      <th>initial_list_status</th>\n",
              "      <td>0</td>\n",
              "    </tr>\n",
              "    <tr>\n",
              "      <th>application_type</th>\n",
              "      <td>0</td>\n",
              "    </tr>\n",
              "    <tr>\n",
              "      <th>mort_acc</th>\n",
              "      <td>0</td>\n",
              "    </tr>\n",
              "    <tr>\n",
              "      <th>pub_rec_bankruptcies</th>\n",
              "      <td>0</td>\n",
              "    </tr>\n",
              "    <tr>\n",
              "      <th>address</th>\n",
              "      <td>0</td>\n",
              "    </tr>\n",
              "  </tbody>\n",
              "</table>\n",
              "</div><br><label><b>dtype:</b> int64</label>"
            ]
          },
          "metadata": {},
          "execution_count": 6
        }
      ],
      "source": [
        "df1=n.dropna()\n",
        "df1.isnull().sum()"
      ]
    },
    {
      "cell_type": "code",
      "execution_count": 7,
      "metadata": {
        "id": "hkY_OFQPKilk"
      },
      "outputs": [],
      "source": [
        "df2=df1.drop(['term','title','sub_grade','verification_status','initial_list_status','revol_util','open_acc','pub_rec','mort_acc','address','issue_d','earliest_cr_line','pub_rec_bankruptcies'],axis=1)"
      ]
    },
    {
      "cell_type": "code",
      "execution_count": 8,
      "metadata": {
        "id": "OPV0WAIYLnw_"
      },
      "outputs": [],
      "source": [
        "df3=df2.drop(['emp_length'],axis=1)"
      ]
    },
    {
      "cell_type": "code",
      "execution_count": 9,
      "metadata": {
        "id": "acSMoDPlK3pB",
        "colab": {
          "base_uri": "https://localhost:8080/"
        },
        "outputId": "cc4f6db6-925c-4ef5-a40f-de4d5dedadfe"
      },
      "outputs": [
        {
          "output_type": "stream",
          "name": "stdout",
          "text": [
            "        loan_amnt  int_rate  installment grade                emp_title  \\\n",
            "0         10000.0     11.44       329.48     B                Marketing   \n",
            "1          8000.0     11.99       265.68     B          Credit analyst    \n",
            "2         15600.0     10.49       506.97     B             Statistician   \n",
            "3          7200.0      6.49       220.65     A          Client Advocate   \n",
            "4         24375.0     17.27       609.33     C  Destiny Management Inc.   \n",
            "...           ...       ...          ...   ...                      ...   \n",
            "396024     6000.0     13.11       202.49     B  Michael's Arts & Crafts   \n",
            "396025    10000.0     10.99       217.38     B         licensed bankere   \n",
            "396026    21000.0     12.29       700.42     C                    Agent   \n",
            "396027     5000.0      9.99       161.32     B             City Carrier   \n",
            "396028    21000.0     15.31       503.02     C     Gracon Services, Inc   \n",
            "\n",
            "       home_ownership  annual_inc  loan_status             purpose    dti  \\\n",
            "0                RENT    117000.0   Fully Paid            vacation  26.24   \n",
            "1            MORTGAGE     65000.0   Fully Paid  debt_consolidation  22.05   \n",
            "2                RENT     43057.0   Fully Paid         credit_card  12.79   \n",
            "3                RENT     54000.0   Fully Paid         credit_card   2.60   \n",
            "4            MORTGAGE     55000.0  Charged Off         credit_card  33.95   \n",
            "...               ...         ...          ...                 ...    ...   \n",
            "396024           RENT     64000.0   Fully Paid  debt_consolidation  10.81   \n",
            "396025           RENT     40000.0   Fully Paid  debt_consolidation  15.63   \n",
            "396026       MORTGAGE    110000.0   Fully Paid  debt_consolidation  21.45   \n",
            "396027           RENT     56500.0   Fully Paid  debt_consolidation  17.56   \n",
            "396028       MORTGAGE     64000.0   Fully Paid  debt_consolidation  15.88   \n",
            "\n",
            "        revol_bal  total_acc application_type  \n",
            "0         36369.0       25.0       INDIVIDUAL  \n",
            "1         20131.0       27.0       INDIVIDUAL  \n",
            "2         11987.0       26.0       INDIVIDUAL  \n",
            "3          5472.0       13.0       INDIVIDUAL  \n",
            "4         24584.0       43.0       INDIVIDUAL  \n",
            "...           ...        ...              ...  \n",
            "396024    11456.0        9.0       INDIVIDUAL  \n",
            "396025     1990.0       23.0       INDIVIDUAL  \n",
            "396026    43263.0        8.0       INDIVIDUAL  \n",
            "396027    32704.0       23.0       INDIVIDUAL  \n",
            "396028    15704.0       20.0       INDIVIDUAL  \n",
            "\n",
            "[335867 rows x 13 columns]\n"
          ]
        }
      ],
      "source": [
        "print(df3)"
      ]
    },
    {
      "cell_type": "code",
      "execution_count": 10,
      "metadata": {
        "id": "w9qta0fnK5nf"
      },
      "outputs": [],
      "source": [
        "from sklearn.preprocessing import LabelEncoder, StandardScaler\n",
        "from sklearn.model_selection import train_test_split\n",
        "from sklearn.svm import SVC\n",
        "\n",
        "le=LabelEncoder()\n",
        "df3['emp_title']=le.fit_transform(df3['emp_title'])\n",
        "df3['home_ownership']=le.fit_transform(df3['home_ownership'])\n",
        "df3['grade']=le.fit_transform(df3['grade'])\n",
        "df3['loan_status']=le.fit_transform(df3['loan_status'])\n",
        "df3['purpose']=le.fit_transform(df3['purpose'])\n",
        "df3['application_type']=le.fit_transform(df3['application_type'])"
      ]
    },
    {
      "cell_type": "code",
      "execution_count": 11,
      "metadata": {
        "id": "4OMzoSb0K8HD"
      },
      "outputs": [],
      "source": [
        "X=df3.drop(['loan_status'],axis=1)\n",
        "y=df3['loan_status']"
      ]
    },
    {
      "cell_type": "code",
      "execution_count": 12,
      "metadata": {
        "id": "zZ-Lv2lULEoM"
      },
      "outputs": [],
      "source": [
        "X_train,X_test,y_train,y_test=train_test_split(X,y,test_size=0.8,random_state=42)"
      ]
    },
    {
      "cell_type": "code",
      "execution_count": 13,
      "metadata": {
        "id": "nni-tU2PLha3",
        "colab": {
          "base_uri": "https://localhost:8080/"
        },
        "outputId": "4206a055-cfe2-41df-e4f3-53179683a466"
      },
      "outputs": [
        {
          "output_type": "stream",
          "name": "stdout",
          "text": [
            "        loan_amnt  int_rate  installment  grade  emp_title  home_ownership  \\\n",
            "206479    19400.0     11.14       636.42      1     113825               5   \n",
            "183040    29300.0     13.98      1001.12      2      80214               1   \n",
            "177719    14400.0     19.52       377.68      4     114408               5   \n",
            "360317     4800.0     19.05       176.08      3      63014               5   \n",
            "204438    32000.0      8.39      1008.54      0      87955               1   \n",
            "...           ...       ...          ...    ...        ...             ...   \n",
            "141325    13000.0     12.49       434.84      1       8478               1   \n",
            "305750    12000.0     11.99       398.52      1     146439               5   \n",
            "155548     6000.0     14.33       206.03      2     112082               1   \n",
            "173206    11675.0     18.24       423.49      3     130788               1   \n",
            "143796     7000.0     15.31       243.73      2      75577               5   \n",
            "\n",
            "        annual_inc  purpose    dti  revol_bal  total_acc  application_type  \n",
            "206479     55000.0        2  17.02    28201.0       27.0                 1  \n",
            "183040     85000.0        1  18.74    18556.0       15.0                 1  \n",
            "177719     50000.0        2  17.11     9076.0       16.0                 1  \n",
            "360317     97000.0        2  19.24    11460.0       56.0                 1  \n",
            "204438     76048.0        2  17.99    23050.0       30.0                 1  \n",
            "...            ...      ...    ...        ...        ...               ...  \n",
            "141325     50000.0        2  14.55    10178.0       20.0                 1  \n",
            "305750     50000.0        2  15.16    14894.0        8.0                 1  \n",
            "155548     38000.0        1  25.29    23477.0       32.0                 1  \n",
            "173206     56000.0        4  37.06    17619.0       26.0                 1  \n",
            "143796     59000.0        2  15.15    13225.0       12.0                 1  \n",
            "\n",
            "[67173 rows x 12 columns]\n"
          ]
        }
      ],
      "source": [
        "print(X_train)"
      ]
    },
    {
      "cell_type": "code",
      "execution_count": 15,
      "metadata": {
        "id": "y_WbN5_4LIrd"
      },
      "outputs": [],
      "source": [
        "scaler=StandardScaler()\n",
        "scaler_X_train=scaler.fit_transform(X_train)\n",
        "scaler_X_test=scaler.transform(X_test)"
      ]
    },
    {
      "cell_type": "code",
      "source": [
        "from imblearn.over_sampling import SMOTE\n",
        "\n",
        "smote = SMOTE(random_state=42)\n",
        "X_resampled, y_resampled = smote.fit_resample(scaler_X_train, y_train)"
      ],
      "metadata": {
        "id": "k9thfzeyggDO"
      },
      "execution_count": 16,
      "outputs": []
    },
    {
      "cell_type": "code",
      "execution_count": 17,
      "metadata": {
        "id": "xYnokNg2O6U6"
      },
      "outputs": [],
      "source": [
        "CV=StratifiedKFold(n_splits=10,shuffle=True,random_state=42)"
      ]
    },
    {
      "cell_type": "code",
      "execution_count": 18,
      "metadata": {
        "id": "ob-R23fxLO6u"
      },
      "outputs": [],
      "source": [
        "model = RandomForestClassifier(n_estimators=200, max_depth=10, min_samples_split=2)"
      ]
    },
    {
      "cell_type": "code",
      "execution_count": null,
      "metadata": {
        "id": "qK9N3X8fVHmX",
        "colab": {
          "base_uri": "https://localhost:8080/"
        },
        "outputId": "2ec47438-5e1f-4557-a89b-c62a3f9e4f9e"
      },
      "outputs": [
        {
          "output_type": "stream",
          "name": "stdout",
          "text": [
            "The model RandomForestClassifier() is running...\n"
          ]
        }
      ],
      "source": [
        "model1=RandomForestClassifier()\n",
        "\n",
        "param_grid={\n",
        "    'n_estimators':[100,200,300],\n",
        "    'max_depth':[5,10,15],\n",
        "    'min_samples_split':[2,5,10]\n",
        "}\n",
        "\n",
        "grid_search=GridSearchCV(model1,param_grid,cv=CV,scoring='accuracy')\n",
        "\n",
        "print(f'The model {model1} is running...')\n",
        "\n",
        "grid_search.fit(X_resampled,y_resampled)\n",
        "\n",
        "print(f'The {model1} is predicting...')\n",
        "\n",
        "y_pred=grid_search.predict(scaler_X_test)\n",
        "\n",
        "best_model=grid_search.best_estimator_\n",
        "\n",
        "acc=accuracy_score(y_test,y_pred)\n",
        "classification=classification_report(y_test,y_pred)\n",
        "cm=confusion_matrix(y_test,y_pred)\n",
        "print(classification)\n"
      ]
    },
    {
      "cell_type": "code",
      "source": [
        "print(best_model)\n",
        "print(acc)\n",
        "print(cm)"
      ],
      "metadata": {
        "id": "_OYISndZmkrE"
      },
      "execution_count": null,
      "outputs": []
    },
    {
      "cell_type": "code",
      "execution_count": null,
      "metadata": {
        "id": "p336raIhM5jX"
      },
      "outputs": [],
      "source": [
        "model.fit(scaler_X_train,y_train)"
      ]
    },
    {
      "cell_type": "code",
      "execution_count": null,
      "metadata": {
        "id": "OPx4srcoM2W-"
      },
      "outputs": [],
      "source": [
        "y_pred=model.predict(scaler_X_test)"
      ]
    },
    {
      "cell_type": "code",
      "execution_count": null,
      "metadata": {
        "id": "rAsd6Hh8Oheh"
      },
      "outputs": [],
      "source": [
        "acc=accuracy_score(y_test,y_pred)\n",
        "classification=classification_report(y_test,y_pred)\n",
        "cm=confusion_matrix(y_test,y_pred)\n",
        "print(classification)\n",
        "roc_auc=roc_auc_score(y_test,y_pred)"
      ]
    },
    {
      "cell_type": "code",
      "execution_count": null,
      "metadata": {
        "id": "YOpb1TVSPyHi"
      },
      "outputs": [],
      "source": [
        "import pickle\n",
        "\n",
        "pickle.dump(best_model,open('model.pkl','wb'))"
      ]
    },
    {
      "cell_type": "code",
      "execution_count": null,
      "metadata": {
        "id": "48cad571"
      },
      "outputs": [],
      "source": [
        "from sklearn.metrics import classification_report, confusion_matrix\n",
        "\n",
        "y_pred = best_model.predict(scaler_X_test)\n",
        "\n",
        "print(classification_report(y_test, y_pred))\n",
        "print(confusion_matrix(y_test, y_pred))"
      ]
    },
    {
      "cell_type": "code",
      "source": [],
      "metadata": {
        "id": "5rxF6TtKqgfJ"
      },
      "execution_count": null,
      "outputs": []
    }
  ],
  "metadata": {
    "colab": {
      "provenance": []
    },
    "kernelspec": {
      "display_name": "Python 3",
      "name": "python3"
    },
    "language_info": {
      "name": "python"
    }
  },
  "nbformat": 4,
  "nbformat_minor": 0
}